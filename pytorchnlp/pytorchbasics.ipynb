{
  "nbformat": 4,
  "nbformat_minor": 0,
  "metadata": {
    "colab": {
      "name": "pytorchbasics.ipynb",
      "provenance": [],
      "collapsed_sections": [],
      "authorship_tag": "ABX9TyMCRLYFyvuzIShN19jxyLxF",
      "include_colab_link": true
    },
    "kernelspec": {
      "name": "python3",
      "display_name": "Python 3"
    },
    "language_info": {
      "name": "python"
    }
  },
  "cells": [
    {
      "cell_type": "markdown",
      "metadata": {
        "id": "view-in-github",
        "colab_type": "text"
      },
      "source": [
        "<a href=\"https://colab.research.google.com/github/amarviswanathan/AppliedDataScience/blob/master/pytorchnlp/pytorchbasics.ipynb\" target=\"_parent\"><img src=\"https://colab.research.google.com/assets/colab-badge.svg\" alt=\"Open In Colab\"/></a>"
      ]
    },
    {
      "cell_type": "code",
      "source": [
        "import torch"
      ],
      "metadata": {
        "id": "pEylDTHDRbvI"
      },
      "execution_count": 2,
      "outputs": []
    },
    {
      "cell_type": "code",
      "execution_count": 3,
      "metadata": {
        "id": "1WmLhvlgMAr7"
      },
      "outputs": [],
      "source": [
        "def describe(x):\n",
        "\n",
        "  print(f\"Type: {x.type()}\")\n",
        "  print(f\"Shape/Size: {x.shape}\")\n",
        "  print(f\"Values: {x}\")"
      ]
    },
    {
      "cell_type": "code",
      "source": [
        "describe(torch.Tensor(2,3))"
      ],
      "metadata": {
        "colab": {
          "base_uri": "https://localhost:8080/"
        },
        "id": "km_FiNfZRkob",
        "outputId": "5d9c8770-a6f8-4e13-d5dc-63ee3f8d0878"
      },
      "execution_count": 4,
      "outputs": [
        {
          "output_type": "stream",
          "name": "stdout",
          "text": [
            "Type: torch.FloatTensor\n",
            "Shape/Size: torch.Size([2, 3])\n",
            "Values: tensor([[-4.8900e-34,  3.0750e-41,  3.7835e-44],\n",
            "        [ 0.0000e+00,         nan,  6.4460e-44]])\n"
          ]
        }
      ]
    },
    {
      "cell_type": "code",
      "source": [
        "describe(torch.rand(2,3))  # uniform random\n",
        "describe(torch.randn(2,3)) # random normal"
      ],
      "metadata": {
        "colab": {
          "base_uri": "https://localhost:8080/"
        },
        "id": "poVbCnpeRnM_",
        "outputId": "339baa5f-6bfe-4290-ca61-66545bf1999c"
      },
      "execution_count": 5,
      "outputs": [
        {
          "output_type": "stream",
          "name": "stdout",
          "text": [
            "Type: torch.FloatTensor\n",
            "Shape/Size: torch.Size([2, 3])\n",
            "Values: tensor([[0.6742, 0.1788, 0.1003],\n",
            "        [0.4605, 0.5115, 0.4904]])\n",
            "Type: torch.FloatTensor\n",
            "Shape/Size: torch.Size([2, 3])\n",
            "Values: tensor([[-0.4851,  0.4266, -0.3113],\n",
            "        [ 1.6293, -1.5889, -0.8707]])\n"
          ]
        }
      ]
    },
    {
      "cell_type": "code",
      "source": [
        "# We can also create tensors with specified values using the fill_ method. Anything with '_' means that content is modified in place\n",
        "\n",
        "x1 = torch.ones(2,3)  # filled with ones\n",
        "describe(x1)\n",
        "x1.fill_(5)   # filled with 5\n",
        "describe(x1)"
      ],
      "metadata": {
        "colab": {
          "base_uri": "https://localhost:8080/"
        },
        "id": "LZTJfh2jRzbH",
        "outputId": "ed39d6e8-c306-4e53-eb23-0d98565164c3"
      },
      "execution_count": 8,
      "outputs": [
        {
          "output_type": "stream",
          "name": "stdout",
          "text": [
            "Type: torch.FloatTensor\n",
            "Shape/Size: torch.Size([2, 3])\n",
            "Values: tensor([[1., 1., 1.],\n",
            "        [1., 1., 1.]])\n",
            "Type: torch.FloatTensor\n",
            "Shape/Size: torch.Size([2, 3])\n",
            "Values: tensor([[5., 5., 5.],\n",
            "        [5., 5., 5.]])\n"
          ]
        }
      ]
    },
    {
      "cell_type": "code",
      "source": [
        "# Using lists to create tensors\n",
        "\n",
        "x = torch.Tensor([[1,2,3],[4,5,6]])\n",
        "describe(x)"
      ],
      "metadata": {
        "colab": {
          "base_uri": "https://localhost:8080/"
        },
        "id": "ufeGBgmTTgUX",
        "outputId": "fedff491-5445-466d-ff63-38de24be30f5"
      },
      "execution_count": 9,
      "outputs": [
        {
          "output_type": "stream",
          "name": "stdout",
          "text": [
            "Type: torch.FloatTensor\n",
            "Shape/Size: torch.Size([2, 3])\n",
            "Values: tensor([[1., 2., 3.],\n",
            "        [4., 5., 6.]])\n"
          ]
        }
      ]
    },
    {
      "cell_type": "code",
      "source": [
        "# Creating and initializing arrays from numpy\n",
        "import numpy as np"
      ],
      "metadata": {
        "id": "Fzp4mOq0T6PD"
      },
      "execution_count": 10,
      "outputs": []
    },
    {
      "cell_type": "code",
      "source": [
        "npy = np.random.rand(2,3)\n",
        "describe(torch.from_numpy(npy))"
      ],
      "metadata": {
        "colab": {
          "base_uri": "https://localhost:8080/"
        },
        "id": "pQtSOlIrUBnb",
        "outputId": "2a7ec66d-e756-43d2-8394-dcc682f676df"
      },
      "execution_count": 11,
      "outputs": [
        {
          "output_type": "stream",
          "name": "stdout",
          "text": [
            "Type: torch.DoubleTensor\n",
            "Shape/Size: torch.Size([2, 3])\n",
            "Values: tensor([[0.6893, 0.0716, 0.9813],\n",
            "        [0.1648, 0.5101, 0.2870]], dtype=torch.float64)\n"
          ]
        }
      ]
    },
    {
      "cell_type": "code",
      "source": [
        "# Dimension based operations\n",
        "\n",
        "\n",
        "x = torch.arange(6)\n",
        "describe(x)"
      ],
      "metadata": {
        "colab": {
          "base_uri": "https://localhost:8080/"
        },
        "id": "C-iedTJAUGX7",
        "outputId": "261570ca-4be9-4f7f-f1ff-8ad58e6a9f1e"
      },
      "execution_count": 12,
      "outputs": [
        {
          "output_type": "stream",
          "name": "stdout",
          "text": [
            "Type: torch.LongTensor\n",
            "Shape/Size: torch.Size([6])\n",
            "Values: tensor([0, 1, 2, 3, 4, 5])\n"
          ]
        }
      ]
    },
    {
      "cell_type": "code",
      "source": [
        "x = x.view(2,3)\n",
        "describe(x)"
      ],
      "metadata": {
        "colab": {
          "base_uri": "https://localhost:8080/"
        },
        "id": "xcr1c7FXX9Xn",
        "outputId": "85410eed-8bb2-4b4d-cf88-8356aaf31813"
      },
      "execution_count": 13,
      "outputs": [
        {
          "output_type": "stream",
          "name": "stdout",
          "text": [
            "Type: torch.LongTensor\n",
            "Shape/Size: torch.Size([2, 3])\n",
            "Values: tensor([[0, 1, 2],\n",
            "        [3, 4, 5]])\n"
          ]
        }
      ]
    },
    {
      "cell_type": "code",
      "source": [
        "# dim = 0 implies row wise addition\n",
        "describe(torch.sum(x,dim=0))"
      ],
      "metadata": {
        "colab": {
          "base_uri": "https://localhost:8080/"
        },
        "id": "7HFMAN0EYAH7",
        "outputId": "30f86c32-2e81-4395-9440-07680d5ed304"
      },
      "execution_count": 14,
      "outputs": [
        {
          "output_type": "stream",
          "name": "stdout",
          "text": [
            "Type: torch.LongTensor\n",
            "Shape/Size: torch.Size([3])\n",
            "Values: tensor([3, 5, 7])\n"
          ]
        }
      ]
    },
    {
      "cell_type": "code",
      "source": [
        "# dim = 1 implies column wise addition\n",
        "describe(torch.sum(x,dim=1))"
      ],
      "metadata": {
        "colab": {
          "base_uri": "https://localhost:8080/"
        },
        "id": "auflKsKxYK0B",
        "outputId": "35db81d4-dde3-4fe9-846f-827cb02a8a2e"
      },
      "execution_count": 15,
      "outputs": [
        {
          "output_type": "stream",
          "name": "stdout",
          "text": [
            "Type: torch.LongTensor\n",
            "Shape/Size: torch.Size([2])\n",
            "Values: tensor([ 3, 12])\n"
          ]
        }
      ]
    },
    {
      "cell_type": "code",
      "source": [
        "describe(torch.transpose(x,0,1)) # Find another way to transpose"
      ],
      "metadata": {
        "colab": {
          "base_uri": "https://localhost:8080/"
        },
        "id": "_uwaX3SrYUhH",
        "outputId": "f5d5dd0d-b6c9-4645-8b2d-78b0f516fa09"
      },
      "execution_count": 16,
      "outputs": [
        {
          "output_type": "stream",
          "name": "stdout",
          "text": [
            "Type: torch.LongTensor\n",
            "Shape/Size: torch.Size([3, 2])\n",
            "Values: tensor([[0, 3],\n",
            "        [1, 4],\n",
            "        [2, 5]])\n"
          ]
        }
      ]
    },
    {
      "cell_type": "code",
      "source": [
        "import torch\n",
        "\n",
        "x = torch.arange(6).view(2,3)\n",
        "describe(x)"
      ],
      "metadata": {
        "colab": {
          "base_uri": "https://localhost:8080/"
        },
        "id": "HowTMg_LYkyv",
        "outputId": "921b082f-d18c-48ca-8dbc-ca399fa33433"
      },
      "execution_count": 17,
      "outputs": [
        {
          "output_type": "stream",
          "name": "stdout",
          "text": [
            "Type: torch.LongTensor\n",
            "Shape/Size: torch.Size([2, 3])\n",
            "Values: tensor([[0, 1, 2],\n",
            "        [3, 4, 5]])\n"
          ]
        }
      ]
    },
    {
      "cell_type": "code",
      "source": [
        "# start:end:step,  start index included, end index excluded \n",
        "x[:1,:2]"
      ],
      "metadata": {
        "colab": {
          "base_uri": "https://localhost:8080/"
        },
        "id": "_d9NVUE0ZIjo",
        "outputId": "0271ca38-f99f-45f2-fe04-71a080459b7d"
      },
      "execution_count": 21,
      "outputs": [
        {
          "output_type": "execute_result",
          "data": {
            "text/plain": [
              "tensor([[0, 1]])"
            ]
          },
          "metadata": {},
          "execution_count": 21
        }
      ]
    },
    {
      "cell_type": "code",
      "source": [
        "# Non contiguous indexing\n",
        "\n",
        "indices = torch.LongTensor([0,2])\n",
        "indices"
      ],
      "metadata": {
        "colab": {
          "base_uri": "https://localhost:8080/"
        },
        "id": "ORE_1f4vZQi0",
        "outputId": "be6fdce8-f611-418e-a703-4c761ae7a61b"
      },
      "execution_count": 22,
      "outputs": [
        {
          "output_type": "execute_result",
          "data": {
            "text/plain": [
              "tensor([0, 2])"
            ]
          },
          "metadata": {},
          "execution_count": 22
        }
      ]
    },
    {
      "cell_type": "code",
      "source": [
        "torch.index_select(x,dim=1,index=indices)"
      ],
      "metadata": {
        "colab": {
          "base_uri": "https://localhost:8080/"
        },
        "id": "PqdxUQsNaGEb",
        "outputId": "1eae085a-a390-4f8e-8c88-8ca4b9340fe7"
      },
      "execution_count": 24,
      "outputs": [
        {
          "output_type": "execute_result",
          "data": {
            "text/plain": [
              "tensor([[0, 2],\n",
              "        [3, 5]])"
            ]
          },
          "metadata": {},
          "execution_count": 24
        }
      ]
    },
    {
      "cell_type": "code",
      "source": [
        ""
      ],
      "metadata": {
        "id": "-hpXwVydaLvF"
      },
      "execution_count": null,
      "outputs": []
    }
  ]
}